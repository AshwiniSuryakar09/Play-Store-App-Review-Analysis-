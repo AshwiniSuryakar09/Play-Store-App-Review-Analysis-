{
  "nbformat": 4,
  "nbformat_minor": 0,
  "metadata": {
    "colab": {
      "private_outputs": true,
      "provenance": [],
      "collapsed_sections": [
        "vncDsAP0Gaoa",
        "FJNUwmbgGyua",
        "w6K7xa23Elo4",
        "yQaldy8SH6Dl",
        "PH-0ReGfmX4f",
        "mDgbUHAGgjLW",
        "HhfV-JJviCcP",
        "Y3lxredqlCYt",
        "3RnN4peoiCZX",
        "x71ZqKXriCWQ",
        "7hBIi_osiCS2",
        "JlHwYmJAmNHm",
        "35m5QtbWiB9F",
        "PoPl-ycgm1ru",
        "H0kj-8xxnORC",
        "nA9Y7ga8ng1Z",
        "u3PMJOP6ngxN",
        "K5QZ13OEpz2H",
        "lQ7QKXXCp7Bj",
        "448CDAPjqfQr",
        "t6dVpIINYklI",
        "ijmpgYnKYklI",
        "-JiQyfWJYklI",
        "fge-S5ZAYoAp",
        "85gYPyotYoAp",
        "RoGjAbkUYoAp",
        "jj7wYXLtphqO",
        "eZrbJ2SmphqO",
        "rFu4xreNphqO",
        "gCFgpxoyphqP",
        "OVtJsKN_phqQ",
        "X_VqEhTip1ck",
        "PVzmfK_Ep1ck",
        "gIfDvo9L0UH2"
      ]
    },
    "kernelspec": {
      "name": "python3",
      "display_name": "Python 3"
    },
    "language_info": {
      "name": "python"
    }
  },
  "cells": [
    {
      "cell_type": "markdown",
      "source": [
        "# **Project Name**    - Play Store App Review Analysis\n",
        "\n"
      ],
      "metadata": {
        "id": "vncDsAP0Gaoa"
      }
    },
    {
      "cell_type": "markdown",
      "source": [
        "##### **Project Type**    - EDA\n",
        "##### **Contribution**    - Individual\n"
      ],
      "metadata": {
        "id": "beRrZCGUAJYm"
      }
    },
    {
      "cell_type": "markdown",
      "source": [
        "# **Project Summary -**"
      ],
      "metadata": {
        "id": "FJNUwmbgGyua"
      }
    },
    {
      "cell_type": "markdown",
      "source": [
        "The Play Store apps dataset offers significant potential for driving success in the app development industry. By analyzing this data, developers can derive actionable insights to optimize their strategies and effectively capture the Android market.\n",
        "\n",
        "Each app in the dataset includes various attributes, such as category, rating, size, and more. Additionally, a separate dataset contains customer reviews of these Android apps. Through comprehensive exploration and analysis, this study aims to identify the key factors contributing to app engagement and success.\n",
        "\n",
        "\n",
        "In this project, I employed an Exploratory Data Analysis (EDA) approach to analyze the data, utilizing visual techniques to uncover trends and patterns. This process involved examining statistical summaries and graphical representations to validate assumptions and gain deeper insights into the data."
      ],
      "metadata": {
        "id": "F6v_1wHtG2nS"
      }
    },
    {
      "cell_type": "markdown",
      "source": [
        "# **GitHub Link -**"
      ],
      "metadata": {
        "id": "w6K7xa23Elo4"
      }
    },
    {
      "cell_type": "markdown",
      "source": [
        "https://github.com/AshwiniSuryakar09/Play-Store-App-Review-Analysis-"
      ],
      "metadata": {
        "id": "h1o69JH3Eqqn"
      }
    },
    {
      "cell_type": "markdown",
      "source": [
        "# **Problem Statement**\n"
      ],
      "metadata": {
        "id": "yQaldy8SH6Dl"
      }
    },
    {
      "cell_type": "markdown",
      "source": [
        "\n",
        "\n",
        "The objective of this analysis is to understand the key factors influencing app success on the Google Play Store. This includes identifying the most popular app categories, determining whether the majority of apps are free or paid, assessing the importance of app ratings, and exploring how these ratings are affected by whether an app is paid or free. Additionally, the analysis aims to uncover which app categories have the highest number of installations, how app counts vary across different genres, and the correlation between user reviews and app ratings. By gaining insights into these areas, developers and marketers can make data-driven decisions to optimize app development and marketing strategies, thereby enhancing user engagement and maximizing revenue potential on the platform."
      ],
      "metadata": {
        "id": "DpeJGUA3kjGy"
      }
    },
    {
      "cell_type": "markdown",
      "source": [
        "#### **Define Your Business Objective?**"
      ],
      "metadata": {
        "id": "PH-0ReGfmX4f"
      }
    },
    {
      "cell_type": "markdown",
      "source": [
        "The Play Store apps data has enormous potential to drive app-making businesses to success. Actionable insights can be drawn for developers to work on and capture the Android market"
      ],
      "metadata": {
        "id": "PhDvGCAqmjP1"
      }
    },
    {
      "cell_type": "markdown",
      "source": [
        "# **General Guidelines** : -  "
      ],
      "metadata": {
        "id": "mDgbUHAGgjLW"
      }
    },
    {
      "cell_type": "markdown",
      "source": [
        "1.   Well-structured, formatted, and commented code is required.\n",
        "2.   Exception Handling, Production Grade Code & Deployment Ready Code will be a plus. Those students will be awarded some additional credits.\n",
        "     \n",
        "     The additional credits will have advantages over other students during Star Student selection.\n",
        "       \n",
        "             [ Note: - Deployment Ready Code is defined as, the whole .ipynb notebook should be executable in one go\n",
        "                       without a single error logged. ]\n",
        "\n",
        "3.   Each and every logic should have proper comments.\n",
        "4. You may add as many number of charts you want. Make Sure for each and every chart the following format should be answered.\n",
        "        \n",
        "\n",
        "```\n",
        "# Chart visualization code\n",
        "```\n",
        "            \n",
        "\n",
        "*   Why did you pick the specific chart?\n",
        "*   What is/are the insight(s) found from the chart?\n",
        "* Will the gained insights help creating a positive business impact?\n",
        "Are there any insights that lead to negative growth? Justify with specific reason.\n",
        "\n",
        "5. You have to create at least 20 logical & meaningful charts having important insights.\n",
        "\n",
        "\n",
        "[ Hints : - Do the Vizualization in  a structured way while following \"UBM\" Rule.\n",
        "\n",
        "U - Univariate Analysis,\n",
        "\n",
        "B - Bivariate Analysis (Numerical - Categorical, Numerical - Numerical, Categorical - Categorical)\n",
        "\n",
        "M - Multivariate Analysis\n",
        " ]\n",
        "\n",
        "\n",
        "\n"
      ],
      "metadata": {
        "id": "ZrxVaUj-hHfC"
      }
    },
    {
      "cell_type": "markdown",
      "source": [
        "# ***Let's Begin !***"
      ],
      "metadata": {
        "id": "O_i_v8NEhb9l"
      }
    },
    {
      "cell_type": "markdown",
      "source": [
        "## ***1. Know Your Data***"
      ],
      "metadata": {
        "id": "HhfV-JJviCcP"
      }
    },
    {
      "cell_type": "markdown",
      "source": [
        "### Import Libraries"
      ],
      "metadata": {
        "id": "Y3lxredqlCYt"
      }
    },
    {
      "cell_type": "code",
      "source": [
        "# Import Libraries\n",
        "import pandas as pd\n",
        "import numpy as np\n",
        "import seaborn as sns\n",
        "import matplotlib.pyplot as plt\n",
        "%matplotlib inline"
      ],
      "metadata": {
        "id": "M8Vqi-pPk-HR"
      },
      "execution_count": null,
      "outputs": []
    },
    {
      "cell_type": "markdown",
      "source": [
        "### Dataset Loading"
      ],
      "metadata": {
        "id": "3RnN4peoiCZX"
      }
    },
    {
      "cell_type": "code",
      "source": [
        "# mount google drive\n",
        "from google.colab import drive\n",
        "drive.mount('/content/drive')"
      ],
      "metadata": {
        "id": "3XDYbM9wrFwr"
      },
      "execution_count": null,
      "outputs": []
    },
    {
      "cell_type": "code",
      "source": [
        "# Load Dataset\n",
        "data = pd.read_csv('Play Store Data.csv')\n",
        "user = pd.read_csv('User Reviews.csv')"
      ],
      "metadata": {
        "id": "4CkvbW_SlZ_R"
      },
      "execution_count": null,
      "outputs": []
    },
    {
      "cell_type": "markdown",
      "source": [
        "### Dataset First View"
      ],
      "metadata": {
        "id": "x71ZqKXriCWQ"
      }
    },
    {
      "cell_type": "code",
      "source": [
        "# Dataset First Look for playstore\n",
        "data.head()"
      ],
      "metadata": {
        "id": "LWNFOSvLl09H"
      },
      "execution_count": null,
      "outputs": []
    },
    {
      "cell_type": "code",
      "source": [
        "data.tail()"
      ],
      "metadata": {
        "id": "ThjhjjRGsNPO"
      },
      "execution_count": null,
      "outputs": []
    },
    {
      "cell_type": "code",
      "source": [
        "# Dataset First Look for user\n",
        "user.head()"
      ],
      "metadata": {
        "id": "uc9xMZScsJsP"
      },
      "execution_count": null,
      "outputs": []
    },
    {
      "cell_type": "code",
      "source": [
        "user.tail()"
      ],
      "metadata": {
        "id": "YLJKlJGVsPun"
      },
      "execution_count": null,
      "outputs": []
    },
    {
      "cell_type": "markdown",
      "source": [
        "### Dataset Rows & Columns count"
      ],
      "metadata": {
        "id": "7hBIi_osiCS2"
      }
    },
    {
      "cell_type": "code",
      "source": [
        "# Dataset Rows & Columns count for playstore\n",
        "data.shape"
      ],
      "metadata": {
        "id": "Kllu7SJgmLij"
      },
      "execution_count": null,
      "outputs": []
    },
    {
      "cell_type": "code",
      "source": [
        "# dataset rows and column for user\n",
        "user.shape"
      ],
      "metadata": {
        "id": "xdmfLvv0sVK9"
      },
      "execution_count": null,
      "outputs": []
    },
    {
      "cell_type": "markdown",
      "source": [
        "### Dataset Information"
      ],
      "metadata": {
        "id": "JlHwYmJAmNHm"
      }
    },
    {
      "cell_type": "code",
      "source": [
        "# Dataset Info for palystore\n",
        "data.info()"
      ],
      "metadata": {
        "id": "e9hRXRi6meOf"
      },
      "execution_count": null,
      "outputs": []
    },
    {
      "cell_type": "code",
      "source": [
        "# Dataset Info for user\n",
        "user.info()"
      ],
      "metadata": {
        "id": "TPnZatFXse9x"
      },
      "execution_count": null,
      "outputs": []
    },
    {
      "cell_type": "markdown",
      "source": [
        "#### Duplicate Values"
      ],
      "metadata": {
        "id": "35m5QtbWiB9F"
      }
    },
    {
      "cell_type": "code",
      "source": [
        "# Dataset Duplicate Value Count for playstore\n",
        "data.duplicated().sum()"
      ],
      "metadata": {
        "id": "1sLdpKYkmox0"
      },
      "execution_count": null,
      "outputs": []
    },
    {
      "cell_type": "code",
      "source": [
        "# Dataset Duplicate Value Count For User\n",
        "user.duplicated().sum()"
      ],
      "metadata": {
        "id": "8iOwoK2ytDwx"
      },
      "execution_count": null,
      "outputs": []
    },
    {
      "cell_type": "markdown",
      "source": [
        "#### Missing Values/Null Values"
      ],
      "metadata": {
        "id": "PoPl-ycgm1ru"
      }
    },
    {
      "cell_type": "code",
      "source": [
        "# Missing Values/Null Values Count for playstore data\n",
        "data.isnull().sum()"
      ],
      "metadata": {
        "id": "GgHWkxvamxVg"
      },
      "execution_count": null,
      "outputs": []
    },
    {
      "cell_type": "code",
      "source": [
        "# Visualizing the missing values for playstore data\n",
        "sns.heatmap(data.isnull(),cbar= False)"
      ],
      "metadata": {
        "id": "rEbVrmNauIsM"
      },
      "execution_count": null,
      "outputs": []
    },
    {
      "cell_type": "code",
      "source": [
        "# Missing values /Null Values Count for User reviews\n",
        "user.isnull().sum()"
      ],
      "metadata": {
        "id": "6RHqX_6qtsaL"
      },
      "execution_count": null,
      "outputs": []
    },
    {
      "cell_type": "code",
      "source": [
        "# Visualizing the missing values for user\n",
        "sns.heatmap(user.isnull(),cbar = False)"
      ],
      "metadata": {
        "id": "3q5wnI3om9sJ"
      },
      "execution_count": null,
      "outputs": []
    },
    {
      "cell_type": "markdown",
      "source": [
        "### What did you know about your dataset?"
      ],
      "metadata": {
        "id": "H0kj-8xxnORC"
      }
    },
    {
      "cell_type": "markdown",
      "source": [
        "Their are two datasets :\n",
        "\n",
        "**1.data dataset** :-\n",
        "   * Total of 13 feature columns and observations(rows) are 10841\n",
        "     present in dataset\n",
        "   * 483 duplicate rows are there.\n",
        "   * Also there are missing values or Null values in the dataset.\n",
        "\n",
        "**2.user dataset**:-\n",
        "\n",
        "   * There are a total of 5 feature columns and The total number of\n",
        "      observations(rows) are 64295.\n",
        "   * 33616 duplicate rows\n",
        "   * Also there are missing values or Null values in the dataset.\n",
        "   "
      ],
      "metadata": {
        "id": "gfoNAAC-nUe_"
      }
    },
    {
      "cell_type": "markdown",
      "source": [
        "## ***2. Understanding Your Variables***"
      ],
      "metadata": {
        "id": "nA9Y7ga8ng1Z"
      }
    },
    {
      "cell_type": "code",
      "source": [
        "# Dataset Columns for playstore\n",
        "data.columns"
      ],
      "metadata": {
        "id": "j7xfkqrt5Ag5"
      },
      "execution_count": null,
      "outputs": []
    },
    {
      "cell_type": "code",
      "source": [
        "# dataset columns for user\n",
        "user.columns"
      ],
      "metadata": {
        "id": "W7mMW0f6w7gX"
      },
      "execution_count": null,
      "outputs": []
    },
    {
      "cell_type": "code",
      "source": [
        "# Dataset Describe for playstore data\n",
        "data.describe()"
      ],
      "metadata": {
        "id": "DnOaZdaE5Q5t"
      },
      "execution_count": null,
      "outputs": []
    },
    {
      "cell_type": "code",
      "source": [
        "# Datset describe for user\n",
        "user.describe()"
      ],
      "metadata": {
        "id": "EOmyFbryxN-L"
      },
      "execution_count": null,
      "outputs": []
    },
    {
      "cell_type": "markdown",
      "source": [
        "### Variables Description"
      ],
      "metadata": {
        "id": "PBTbrJXOngz2"
      }
    },
    {
      "cell_type": "markdown",
      "source": [
        "**A. Variable Description for playstore dataset** :\n",
        "\n",
        "1.App- The name of the application\n",
        "\n",
        "2.Category - The primary category to which the app belongs\n",
        "\n",
        "3.Rating - The overall rating of the app\n",
        "\n",
        "4.Reviews - The total number of reviews for application\n",
        "\n",
        "5.Size - The Size of the application\n",
        "\n",
        "6.Installs - The total number of times app installed\n",
        "\n",
        "7.Type - The cost of app if it is paid or The app is free\n",
        "\n",
        "8.Price - The cost of app if it is paid or The app is free\n",
        "\n",
        "9.Content Rating - The age group app is targeted\n",
        "\n",
        "10.Genres - Additional categories or genres the app belongs to apart\n",
        "from main category\n",
        "\n",
        "11.Last Updated\n",
        "\n",
        "12.Current Version\n",
        "\n",
        "13.Android Version"
      ],
      "metadata": {
        "id": "gk0EpTmQQ8aV"
      }
    },
    {
      "cell_type": "markdown",
      "source": [
        "**B. Variable Description for playstore dataset :**\n",
        "\n",
        "1.App -The name of mobile Application being reviewed\n",
        "\n",
        "2.Translated_Review - The user review of the app,which has been preprocessed\n",
        "\n",
        "3.Sentiment - The sentiment of user revieew categorized as positive ,\n",
        "Negative or Neutral\n",
        "\n",
        "4.Sentiment_Polarity - A numeric score representing the sentiment polarity of the review,ranging from -1 to +1\n",
        "\n",
        "5.Sentiment_Subjectivity - A numeric score indicating the subjectivity of the review ranging from 0 (objective) to 1(subjective)"
      ],
      "metadata": {
        "id": "_xWSzWgJOLKn"
      }
    },
    {
      "cell_type": "markdown",
      "source": [
        "### Check Unique Values for each variable."
      ],
      "metadata": {
        "id": "u3PMJOP6ngxN"
      }
    },
    {
      "cell_type": "code",
      "source": [
        "# Check Unique Values for each variable for play store\n",
        "for i in data.columns.tolist():\n",
        "  print(\"No. of Unique values in\",i,\"is\",data[i].nunique())"
      ],
      "metadata": {
        "id": "zms12Yq5n-jE"
      },
      "execution_count": null,
      "outputs": []
    },
    {
      "cell_type": "code",
      "source": [
        "# Check Unique values for each variable for user reviews\n",
        "for i in user.columns.tolist():\n",
        "  print(\"No.of unique values in\",i,\"is\",user[i].nunique())"
      ],
      "metadata": {
        "id": "Jwr-A3FtRrZW"
      },
      "execution_count": null,
      "outputs": []
    },
    {
      "cell_type": "markdown",
      "source": [
        "## 3. ***Data Wrangling***"
      ],
      "metadata": {
        "id": "dauF4eBmngu3"
      }
    },
    {
      "cell_type": "markdown",
      "source": [
        "### Data Wrangling Code"
      ],
      "metadata": {
        "id": "bKJF3rekwFvQ"
      }
    },
    {
      "cell_type": "code",
      "source": [
        "## convert reviews type as integer type\n",
        "# Remove non-numeric characters and convert to float first\n",
        "data['Reviews'] = data['Reviews'].astype(str).str.replace('M', '',regex=True) # Use str accessor for string replacement\n",
        "data['Reviews'] = data['Reviews'].astype(float)\n",
        "data['Reviews'] = data['Reviews'].apply(lambda x: x * 1000 if x < 10 else x )\n",
        "data['Reviews'] = data['Reviews'].astype(int)"
      ],
      "metadata": {
        "id": "_k1oi9D5cKHN"
      },
      "execution_count": null,
      "outputs": []
    },
    {
      "cell_type": "code",
      "source": [
        "#drop $ sign from price column\n",
        "data['Price'] = data['Price'].astype(str).str.replace('$','')\n",
        "data['Price'] = data['Price'].replace(r' ^\\s*$',np.nan, regex=True)\n",
        "data['Price'] = pd.to_numeric(data['Price'],errors ='coerce')"
      ],
      "metadata": {
        "id": "CGdW_XzKTrsm"
      },
      "execution_count": null,
      "outputs": []
    },
    {
      "cell_type": "code",
      "source": [
        "#in installs column we replace some sign and convert it into integer data type\n",
        "data['Installs'] = data['Installs'].str.replace(',','')\n",
        "data['Installs'] = data['Installs'].str.replace('+','')\n",
        "data['Installs'] = data['Installs'].str.replace('Free', '0') # Replace \"Free\" with '0'\n",
        "data = data.astype({\"Installs\": int})"
      ],
      "metadata": {
        "id": "GkjL1FVLT80D"
      },
      "execution_count": null,
      "outputs": []
    },
    {
      "cell_type": "code",
      "source": [
        "#In size column apps size in mb and kb\n",
        "data[\"Size\"].unique()"
      ],
      "metadata": {
        "id": "PkMvT4WHUik5"
      },
      "execution_count": null,
      "outputs": []
    },
    {
      "cell_type": "code",
      "source": [
        "#convert all apps size in mb data and drop some sign for coverting it into float data type\n",
        "data['Size'] = data['Size'].apply(lambda x: str(x).replace('Varies with device', '20') if 'Varies with device' in str(x) else x)\n",
        "data['Size'] = data['Size'].apply(lambda x: str(x).replace('M', '') if 'M' in str(x) else x)\n",
        "data['Size'] = data['Size'].apply(lambda x: str(x).replace(',', '') if ',' in str(x) else x) # Replace ',' with ''\n",
        "data['Size'] = data['Size'].apply(lambda x: float(str(x).replace('k', '')) / 1000 if 'k' in str(x) else x)\n",
        "data['Size'] = data['Size'].apply(lambda x: float(str(x).replace('+', '')) if '+' in str(x) else x) # Remove '+'\n",
        "data['Size'] = data['Size'].apply(lambda x: float(x))"
      ],
      "metadata": {
        "id": "A3LOQcXpVXyC"
      },
      "execution_count": null,
      "outputs": []
    },
    {
      "cell_type": "markdown",
      "source": [
        "Since, size of the applications present in the datset are in MB and KB. Therefore, for ease in data processing, entire size column is converted to MB."
      ],
      "metadata": {
        "id": "6MvB2IqeVb21"
      }
    },
    {
      "cell_type": "code",
      "source": [
        "#After converted\n",
        "data[\"Size\"].unique()"
      ],
      "metadata": {
        "id": "xiZzvPHvVeau"
      },
      "execution_count": null,
      "outputs": []
    },
    {
      "cell_type": "code",
      "source": [
        "#data info after cleaning\n",
        "data.info()"
      ],
      "metadata": {
        "id": "2TuBBZLgVkQO"
      },
      "execution_count": null,
      "outputs": []
    },
    {
      "cell_type": "code",
      "source": [
        "data.tail()"
      ],
      "metadata": {
        "id": "_DNH5ANCVo_S"
      },
      "execution_count": null,
      "outputs": []
    },
    {
      "cell_type": "code",
      "source": [
        "#unique apps\n",
        "df=data[\"App\"].nunique()\n",
        "df"
      ],
      "metadata": {
        "id": "Ly4Vsa5XVvRm"
      },
      "execution_count": null,
      "outputs": []
    },
    {
      "cell_type": "code",
      "source": [
        "#drop the duplicate apps\n",
        "right_df=data.drop_duplicates(subset='App')\n",
        "right_df.head()"
      ],
      "metadata": {
        "id": "hz0iY6StV2dc"
      },
      "execution_count": null,
      "outputs": []
    },
    {
      "cell_type": "code",
      "source": [
        "#null values in rating-1463\n",
        "right_df.isnull().sum()"
      ],
      "metadata": {
        "id": "QIM2ahfBV9d0"
      },
      "execution_count": null,
      "outputs": []
    },
    {
      "cell_type": "markdown",
      "source": [
        "Here, we realized that there are 1463 rows having null values under column 'Rating'. Hence, we decided to replace the null values with mean of overall 'Rating' values."
      ],
      "metadata": {
        "id": "D7ENZbZIWAhg"
      }
    },
    {
      "cell_type": "code",
      "source": [
        "#replace the null value\n",
        "right_df.Rating.fillna(4.19, inplace=True)"
      ],
      "metadata": {
        "id": "PY27tugTo42-"
      },
      "execution_count": null,
      "outputs": []
    },
    {
      "cell_type": "code",
      "source": [
        "#After cleaning\n",
        "right_df.isnull().sum()"
      ],
      "metadata": {
        "id": "Afse4sikWHCx"
      },
      "execution_count": null,
      "outputs": []
    },
    {
      "cell_type": "markdown",
      "source": [
        "**Afer the cleaning process now we have a right data set.**"
      ],
      "metadata": {
        "id": "q8NP2C1kWLAM"
      }
    },
    {
      "cell_type": "code",
      "source": [
        "#some values count\n",
        "right_df.describe()"
      ],
      "metadata": {
        "id": "sF3takOlpGoh"
      },
      "execution_count": null,
      "outputs": []
    },
    {
      "cell_type": "code",
      "source": [
        "#list of category\n",
        "number_of_category=right_df[\"Category\"].unique()\n",
        "print(number_of_category)"
      ],
      "metadata": {
        "id": "_k-VXX1_pJ1W"
      },
      "execution_count": null,
      "outputs": []
    },
    {
      "cell_type": "code",
      "source": [
        "right_df.head()"
      ],
      "metadata": {
        "id": "h9XX0K__pOlH"
      },
      "execution_count": null,
      "outputs": []
    },
    {
      "cell_type": "code",
      "source": [
        "right_df.tail()"
      ],
      "metadata": {
        "id": "caZ7shNwpM_C"
      },
      "execution_count": null,
      "outputs": []
    },
    {
      "cell_type": "markdown",
      "source": [
        "**Check Unique Values for each variable**:-"
      ],
      "metadata": {
        "id": "rsfgaWDIpUX7"
      }
    },
    {
      "cell_type": "code",
      "source": [
        "right_df[\"App\"].nunique()"
      ],
      "metadata": {
        "id": "ahq7sNLsWXcC"
      },
      "execution_count": null,
      "outputs": []
    },
    {
      "cell_type": "code",
      "source": [
        "right_df[\"Category\"].nunique()"
      ],
      "metadata": {
        "id": "1oWfv45_WaEb"
      },
      "execution_count": null,
      "outputs": []
    },
    {
      "cell_type": "code",
      "source": [
        "right_df[\"Type\"].nunique()"
      ],
      "metadata": {
        "id": "gvk4qC3aWcJZ"
      },
      "execution_count": null,
      "outputs": []
    },
    {
      "cell_type": "code",
      "source": [
        "right_df[\"Price\"].nunique()"
      ],
      "metadata": {
        "id": "QgNeAeOsWedi"
      },
      "execution_count": null,
      "outputs": []
    },
    {
      "cell_type": "code",
      "source": [
        "right_df[\"Price\"].max()"
      ],
      "metadata": {
        "id": "tO7j-8SJWgpc"
      },
      "execution_count": null,
      "outputs": []
    },
    {
      "cell_type": "code",
      "source": [
        "right_df[\"Genres\"].nunique()"
      ],
      "metadata": {
        "id": "v7DbMm7dWitY"
      },
      "execution_count": null,
      "outputs": []
    },
    {
      "cell_type": "code",
      "source": [
        "#data based on rating vs price\n",
        "price_df=right_df[[\"App\",\"Price\",\"Type\",\"Rating\",\"Size\"]]\n",
        "price_df.head()"
      ],
      "metadata": {
        "id": "sqXsEcIqWn0C"
      },
      "execution_count": null,
      "outputs": []
    },
    {
      "cell_type": "code",
      "source": [
        "#apps content rating\n",
        "grouped = right_df[['App','Content Rating']]\n",
        "grouped"
      ],
      "metadata": {
        "id": "5D3YvPQ0WrII"
      },
      "execution_count": null,
      "outputs": []
    },
    {
      "cell_type": "code",
      "source": [
        "#apps age group\n",
        "age_grouped= grouped.rename(columns={'Content Rating': 'age_group'})\n",
        "age_grouped"
      ],
      "metadata": {
        "id": "XUoGG1e1WyCB"
      },
      "execution_count": null,
      "outputs": []
    },
    {
      "cell_type": "code",
      "source": [
        "#android version of apps\n",
        "versions=right_df[\"Android Ver\"].value_counts().reset_index()\n",
        "versions = versions.rename(columns={'index':'Android Ver','Android Ver': 'count'})\n",
        "versions"
      ],
      "metadata": {
        "id": "X92UTEQfW2Wa"
      },
      "execution_count": null,
      "outputs": []
    },
    {
      "cell_type": "code",
      "source": [
        "#total apps based on category\n",
        "df=right_df.groupby('Category')['App'].nunique().reset_index(name=\"Total Apps\")\n",
        "df=df.sort_values(by=['Total Apps'],ascending=False)\n",
        "df.head()"
      ],
      "metadata": {
        "id": "MWGViT57W6kk"
      },
      "execution_count": null,
      "outputs": []
    },
    {
      "cell_type": "markdown",
      "source": [
        "## ***4. Data Vizualization, Storytelling & Experimenting with charts : Understand the relationships between variables***"
      ],
      "metadata": {
        "id": "GF8Ens_Soomf"
      }
    },
    {
      "cell_type": "markdown",
      "source": [
        "#### Chart - 1"
      ],
      "metadata": {
        "id": "0wOQAZs5pc--"
      }
    },
    {
      "cell_type": "code",
      "source": [
        "# Chart - 1 visualization code\n",
        "#pie chart on price of apps\n",
        "plt.figure(figsize=(8,6))\n",
        "plt.title(\"Apps on price\",fontsize = 14)\n",
        "# Calculate the number of unique values in 'Type' column\n",
        "num_slices = len(price_df.Type.value_counts())\n",
        "# Create an explode tuple with the same length as the number of slices\n",
        "explode = (0.1,) + (0,) * (num_slices - 1)\n",
        "plt.pie(price_df.Type.value_counts(), labels=price_df.Type.value_counts().index,autopct='%1.1f%%',startangle=90,explode=explode)\n",
        "plt.show()"
      ],
      "metadata": {
        "id": "7v_ESjsspbW7"
      },
      "execution_count": null,
      "outputs": []
    },
    {
      "cell_type": "markdown",
      "source": [
        "##### 1. Why did you pick the specific chart?"
      ],
      "metadata": {
        "id": "K5QZ13OEpz2H"
      }
    },
    {
      "cell_type": "markdown",
      "source": [
        "Pie charts show the parts-to-whole relationship\n",
        "\n",
        "Pie charts are often used in business. Examples include showing percentages of types of customers, percentage of revenue from different products, and profits from different countries."
      ],
      "metadata": {
        "id": "XESiWehPqBRc"
      }
    },
    {
      "cell_type": "markdown",
      "source": [
        "##### 2. What is/are the insight(s) found from the chart?"
      ],
      "metadata": {
        "id": "lQ7QKXXCp7Bj"
      }
    },
    {
      "cell_type": "markdown",
      "source": [
        "\n",
        "From the plot we can imply that majority of the apps in the Play Store are Free apps."
      ],
      "metadata": {
        "id": "C_j1G7yiqdRP"
      }
    },
    {
      "cell_type": "markdown",
      "source": [
        "##### 3. Will the gained insights help creating a positive business impact?\n",
        "Are there any insights that lead to negative growth? Justify with specific reason."
      ],
      "metadata": {
        "id": "448CDAPjqfQr"
      }
    },
    {
      "cell_type": "markdown",
      "source": [
        "From the above pie chart, we can draw insight that most of the apps are free (approx 92%) and paid apps (approx 7%) Listing. It may lead to fewer installations of paid apps."
      ],
      "metadata": {
        "id": "3cspy4FjqxJW"
      }
    },
    {
      "cell_type": "markdown",
      "source": [
        "#### Chart - 2"
      ],
      "metadata": {
        "id": "KSlN3yHqYklG"
      }
    },
    {
      "cell_type": "code",
      "source": [
        "#age group on apps\n",
        "plt.figure(figsize=(10,6))\n",
        "plt.title(\"Apps per age group\",fontsize = 16)\n",
        "plt.pie(age_grouped.age_group.value_counts(), labels=age_grouped.age_group.value_counts().index,autopct='%1.1f%%',startangle=180,explode=(0.1, 0,0,0,1,2.5))\n",
        "plt.show()"
      ],
      "metadata": {
        "id": "6273nXYdWyNO"
      },
      "execution_count": null,
      "outputs": []
    },
    {
      "cell_type": "markdown",
      "source": [
        "##### 1. Why did you pick the specific chart?"
      ],
      "metadata": {
        "id": "t6dVpIINYklI"
      }
    },
    {
      "cell_type": "markdown",
      "source": [
        "Pie charts show the parts-to-whole relationship\n",
        "\n",
        "So here we display the percentage of Apps with different age group restrictions"
      ],
      "metadata": {
        "id": "5aaW0BYyYklI"
      }
    },
    {
      "cell_type": "markdown",
      "source": [
        "##### 2. What is/are the insight(s) found from the chart?"
      ],
      "metadata": {
        "id": "ijmpgYnKYklI"
      }
    },
    {
      "cell_type": "markdown",
      "source": [
        "\n",
        "From the above plot, we can see that the Everyone category has the highest number of apps."
      ],
      "metadata": {
        "id": "PSx9atu2YklI"
      }
    },
    {
      "cell_type": "markdown",
      "source": [
        "##### 3. Will the gained insights help creating a positive business impact?\n",
        "Are there any insights that lead to negative growth? Justify with specific reason."
      ],
      "metadata": {
        "id": "-JiQyfWJYklI"
      }
    },
    {
      "cell_type": "markdown",
      "source": [
        "From the above piechart we can show that most of the apps are no age restriction means they will gain more users, restricted apps are fewer users base"
      ],
      "metadata": {
        "id": "BcBbebzrYklV"
      }
    },
    {
      "cell_type": "markdown",
      "source": [
        "#### Chart - 3 : Bar PLot"
      ],
      "metadata": {
        "id": "EM7whBJCYoAo"
      }
    },
    {
      "cell_type": "code",
      "source": [
        "#bar graph on apps category\n",
        "plt.figure(figsize=(20,6))\n",
        "plt.title(\"Total Apps on category\",fontsize=16)\n",
        "sns.barplot(data=df, x=\"Category\", y=\"Total Apps\", hue=\"Category\", palette=\"rainbow\", legend=False)\n",
        "plt.xticks(rotation= 90)\n",
        "plt.xlabel('Categorys',fontsize=16)\n",
        "plt.ylabel('Total Apps',fontsize=16)\n",
        "plt.show()"
      ],
      "metadata": {
        "id": "LA4OmLXrLS4e"
      },
      "execution_count": null,
      "outputs": []
    },
    {
      "cell_type": "markdown",
      "source": [
        "##### 1. Why did you pick the specific chart?"
      ],
      "metadata": {
        "id": "fge-S5ZAYoAp"
      }
    },
    {
      "cell_type": "markdown",
      "source": [
        "Bar charts should be used when we are showing segments of information.\n",
        "\n",
        "So, here I want to show the segment of apps category that's why I chose a bar graph."
      ],
      "metadata": {
        "id": "5dBItgRVYoAp"
      }
    },
    {
      "cell_type": "markdown",
      "source": [
        "##### 2. What is/are the insight(s) found from the chart?"
      ],
      "metadata": {
        "id": "85gYPyotYoAp"
      }
    },
    {
      "cell_type": "markdown",
      "source": [
        "From this plotting we know that most of the apps in the play store are from\n",
        "\n",
        "the categories of 'Family', 'Game' and also 'Tools."
      ],
      "metadata": {
        "id": "4jstXR6OYoAp"
      }
    },
    {
      "cell_type": "markdown",
      "source": [
        "##### 3. Will the gained insights help creating a positive business impact?\n",
        "Are there any insights that lead to negative growth? Justify with specific reason."
      ],
      "metadata": {
        "id": "RoGjAbkUYoAp"
      }
    },
    {
      "cell_type": "markdown",
      "source": [
        "From this graph we can say that most of the apps are from the category family, game, tools, and beauty, comics category apps are fewer on the play store So it's better to list an app in the category like Beuty, comics, etc."
      ],
      "metadata": {
        "id": "zfJ8IqMcYoAp"
      }
    },
    {
      "cell_type": "markdown",
      "source": [
        "#### Chart - 4"
      ],
      "metadata": {
        "id": "4Of9eVA-YrdM"
      }
    },
    {
      "cell_type": "code",
      "source": [
        "# Chart - 4 visualization code\n",
        "#top apps by category\n",
        "category= df.sort_values(by='Total Apps',ascending = False)\n",
        "top_five_category= category.head()\n",
        "least_five_category =category.tail()"
      ],
      "metadata": {
        "id": "irlUoxc8YrdO"
      },
      "execution_count": null,
      "outputs": []
    },
    {
      "cell_type": "code",
      "source": [
        "#top category\n",
        "top_five_category.reset_index()"
      ],
      "metadata": {
        "id": "sJ5MqTpWMaqH"
      },
      "execution_count": null,
      "outputs": []
    },
    {
      "cell_type": "code",
      "source": [
        "least_five_category = least_five_category.drop(least_five_category[least_five_category['Category'] == '1.9'].index)"
      ],
      "metadata": {
        "id": "LknF_NSXVsCS"
      },
      "execution_count": null,
      "outputs": []
    },
    {
      "cell_type": "code",
      "source": [
        "least_five_category['Category'] = least_five_category['Category'].replace('1.9', 'Unknown')"
      ],
      "metadata": {
        "id": "UgdxCOzbVzq3"
      },
      "execution_count": null,
      "outputs": []
    },
    {
      "cell_type": "code",
      "source": [
        "least_five_category.reset_index()"
      ],
      "metadata": {
        "id": "Uu8MPsHRV2v8"
      },
      "execution_count": null,
      "outputs": []
    },
    {
      "cell_type": "code",
      "source": [
        "#bar graph of top five category\n",
        "fig = plt.figure(figsize=(7,5))\n",
        "sns.barplot(data=top_five_category,x= \"Category\" ,y= \"Total Apps\",hue=\"Category\", palette=\"rainbow\", legend=False) # Changed dta to data\n",
        "plt.title(\"Top five categories of listed apps\",fontsize= 16)\n",
        "plt.xlabel(\"Category\",fontsize=16)\n",
        "plt.ylabel(\"Total Apps\",fontsize=16)\n",
        "plt.show()"
      ],
      "metadata": {
        "id": "qfyrbNr_NfWA"
      },
      "execution_count": null,
      "outputs": []
    },
    {
      "cell_type": "markdown",
      "source": [
        "##### 1. Why did you pick the specific chart?"
      ],
      "metadata": {
        "id": "iky9q4vBYrdO"
      }
    },
    {
      "cell_type": "markdown",
      "source": [
        "Top Five categories on play store where most of the apps are listed.\n",
        "\n",
        "1-Family\n",
        "\n",
        "2-Game\n",
        "\n",
        "3-Tools\n",
        "\n",
        "4-Business\n",
        "\n",
        "5-Medical"
      ],
      "metadata": {
        "id": "aJRCwT6DYrdO"
      }
    },
    {
      "cell_type": "markdown",
      "source": [
        "#### Chart - 5 : Bar PLot"
      ],
      "metadata": {
        "id": "bamQiAODYuh1"
      }
    },
    {
      "cell_type": "code",
      "source": [
        "# Chart - 5 visualization code\n",
        "least_five_category.reset_index()"
      ],
      "metadata": {
        "id": "TIJwrbroYuh3"
      },
      "execution_count": null,
      "outputs": []
    },
    {
      "cell_type": "code",
      "source": [
        "# Bar PLot\n",
        "figure= plt.figure(figsize=(7,5))\n",
        "sns.barplot(data=least_five_category,x=\"Category\",y=\"Total Apps\",hue =\"Category\",palette=\"rainbow\",legend= False)\n",
        "plt.title(\"Least Five categories of apps\",fontsize = 16)\n",
        "plt.xlabel(\"Category\",fontsize = 16)\n",
        "plt.ylabel(\"Total Apps\",fontsize= 16)\n",
        "plt.show()"
      ],
      "metadata": {
        "id": "JUFUX6qGN87g"
      },
      "execution_count": null,
      "outputs": []
    },
    {
      "cell_type": "markdown",
      "source": [
        "##### 1. Why did you pick the specific chart?"
      ],
      "metadata": {
        "id": "QHF8YVU7Yuh3"
      }
    },
    {
      "cell_type": "markdown",
      "source": [
        "Least five categories were apps are least listed.\n",
        "\n",
        "1-Beauty\n",
        "\n",
        "2-Comics\n",
        "\n",
        "3-Parenting\n",
        "\n",
        "4-Events"
      ],
      "metadata": {
        "id": "dcxuIMRPYuh3"
      }
    },
    {
      "cell_type": "markdown",
      "source": [
        "#### Chart - 6 : BOX PLOT"
      ],
      "metadata": {
        "id": "OH-pJp9IphqM"
      }
    },
    {
      "cell_type": "code",
      "source": [
        "# Chart - 6 visualization code\n",
        "#number of installs based on category\n",
        "categories = right_df.groupby('Category')[\"Installs\"].sum().reset_index()\n",
        "category_installs_sum_df = categories.sort_values(by='Installs',ascending= False)\n",
        "category_installs_sum_df"
      ],
      "metadata": {
        "id": "kuRf4wtuphqN"
      },
      "execution_count": null,
      "outputs": []
    },
    {
      "cell_type": "code",
      "source": [
        "# Bar plot\n",
        "figure = plt.figure(figsize=(10,6))\n",
        "sns.barplot(data=category_installs_sum_df,x =\"Category\",y=\"Installs\",hue=\"Installs\",palette=\"rainbow\",legend= False)\n",
        "plt.xticks(rotation=90)\n",
        "plt.title(\"Total Installs based on category\",fontsize=16)\n",
        "plt.xlabel(\"Category\",fontsize=16)\n",
        "plt.ylabel(\"Installs\",fontsize=16)\n",
        "plt.show()"
      ],
      "metadata": {
        "id": "tQUcj-r3XWJd"
      },
      "execution_count": null,
      "outputs": []
    },
    {
      "cell_type": "markdown",
      "source": [
        "##### 1. Why did you pick the specific chart?"
      ],
      "metadata": {
        "id": "bbFf2-_FphqN"
      }
    },
    {
      "cell_type": "markdown",
      "source": [
        "Bar charts used when we are showing segments of information."
      ],
      "metadata": {
        "id": "loh7H2nzphqN"
      }
    },
    {
      "cell_type": "markdown",
      "source": [
        "##### 2. What is/are the insight(s) found from the chart?"
      ],
      "metadata": {
        "id": "_ouA3fa0phqN"
      }
    },
    {
      "cell_type": "markdown",
      "source": [
        "From this distribution plotting of number of installs for each category, we can see that most of the apps being downloaded and installed are from the categories of 'Game' and 'Communication'.\n",
        "\n",
        "From the above two plots we can conclude that, maximum number of apps present in google play store comes under Family, Games and Tools Category but as per the installations and requirements in the market place, this is not the case. Maximum installed apps comes under Games, Communication and Tools."
      ],
      "metadata": {
        "id": "VECbqPI7phqN"
      }
    },
    {
      "cell_type": "markdown",
      "source": [
        "##### 3. Will the gained insights help creating a positive business impact?\n",
        "Are there any insights that lead to negative growth? Justify with specific reason."
      ],
      "metadata": {
        "id": "Seke61FWphqN"
      }
    },
    {
      "cell_type": "markdown",
      "source": [
        "From the above visualization, we can say that it is profitable to list a game on the play store but in the category like event and beauty it may lead a negative growth of business and apps."
      ],
      "metadata": {
        "id": "DW4_bGpfphqN"
      }
    },
    {
      "cell_type": "markdown",
      "source": [
        "#### Chart - 7"
      ],
      "metadata": {
        "id": "PIIx-8_IphqN"
      }
    },
    {
      "cell_type": "code",
      "source": [
        "# Chart - 7 visualization code\n",
        "#data frame df1\n",
        "df1 =right_df[[\"App\",\"Category\",\"Rating\",\"Reviews\",\"Installs\",\"Price\",\"Type\",\"Genres\",\"Content Rating\",\"Size\"]]\n",
        "df1"
      ],
      "metadata": {
        "id": "lqAIGUfyphqO"
      },
      "execution_count": null,
      "outputs": []
    },
    {
      "cell_type": "code",
      "source": [
        "# Box plot on average rating\n",
        "plt.figure(figsize=(18,15))\n",
        "plt.title(\"Average rating on Category\",fontsize=20)\n",
        "sns.boxplot(y=\"Category\",x ='Rating',data =df1,hue=\"Category\",palette=\"rainbow\",width=0.5)\n",
        "plt.xticks(np.arange(0,5.5, 0.5), rotation=45, fontsize=16)\n",
        "plt.xlim(0.5, 5)\n",
        "plt.xlabel(\"Rating\",fontsize=20)\n",
        "plt.ylabel(\"Category\",fontsize=20)\n",
        "plt.show()"
      ],
      "metadata": {
        "id": "WOsILoBZZHCC"
      },
      "execution_count": null,
      "outputs": []
    },
    {
      "cell_type": "markdown",
      "source": [
        "##### 1. Why did you pick the specific chart?"
      ],
      "metadata": {
        "id": "t27r6nlMphqO"
      }
    },
    {
      "cell_type": "markdown",
      "source": [
        "A Box Plot is also known as Whisker plot is created to display the summary of the set of data values having properties like minimum, first quartile, median, third quartile and maximum."
      ],
      "metadata": {
        "id": "iv6ro40sphqO"
      }
    },
    {
      "cell_type": "markdown",
      "source": [
        "##### 2. What is/are the insight(s) found from the chart?"
      ],
      "metadata": {
        "id": "r2jJGEOYphqO"
      }
    },
    {
      "cell_type": "markdown",
      "source": [
        "From this distribution plotting, it implies that most of the apps in the Play Store are having rating higher than 4 or in the range of 4 to 4.5."
      ],
      "metadata": {
        "id": "Po6ZPi4hphqO"
      }
    },
    {
      "cell_type": "markdown",
      "source": [
        "##### 3. Will the gained insights help creating a positive business impact?\n",
        "Are there any insights that lead to negative growth? Justify with specific reason."
      ],
      "metadata": {
        "id": "b0JNsNcRphqO"
      }
    },
    {
      "cell_type": "markdown",
      "source": [
        "From the box plot, we insight that most of the apps have ratings between 4 - 4.5. The maximum and minimum rating categories are parenting and video players respectively."
      ],
      "metadata": {
        "id": "xvSq8iUTphqO"
      }
    },
    {
      "cell_type": "markdown",
      "source": [
        "#### Chart - 8"
      ],
      "metadata": {
        "id": "BZR9WyysphqO"
      }
    },
    {
      "cell_type": "code",
      "source": [
        "# Average app ratings\n",
        "data['Rating'].value_counts().plot.bar(figsize=(20,8),color='m')\n",
        "plt.xlabel('Average rating',fontsize = 15 )\n",
        "plt.ylabel('Number of apps', fontsize = 15)\n",
        "plt.title('Average rating of apps in Playstore', fontsize = 20)\n",
        "plt.legend()"
      ],
      "metadata": {
        "id": "atKMm8nmwfCm"
      },
      "execution_count": null,
      "outputs": []
    },
    {
      "cell_type": "markdown",
      "source": [
        "##### 1. Why did you pick the specific chart?"
      ],
      "metadata": {
        "id": "jj7wYXLtphqO"
      }
    },
    {
      "cell_type": "markdown",
      "source": [
        "The bar chart is chosen to display the distribution of app ratings across different rating values. It is effective for visualizing how many apps fall into each rating category, making it easy to identify trends and distributions in app ratings."
      ],
      "metadata": {
        "id": "Ob8u6rCTphqO"
      }
    },
    {
      "cell_type": "markdown",
      "source": [
        "##### 2. What is/are the insight(s) found from the chart?"
      ],
      "metadata": {
        "id": "eZrbJ2SmphqO"
      }
    },
    {
      "cell_type": "markdown",
      "source": [
        "The chart shows the distribution of app ratings, indicating how many apps fall into each rating category. It reveals the overall quality of apps on the Play Store, with more apps in higher rating ranges suggesting better consumer satisfaction and quality."
      ],
      "metadata": {
        "id": "mZtgC_hjphqO"
      }
    },
    {
      "cell_type": "markdown",
      "source": [
        "##### 3. Will the gained insights help creating a positive business impact?\n",
        "Are there any insights that lead to negative growth? Justify with specific reason."
      ],
      "metadata": {
        "id": "rFu4xreNphqO"
      }
    },
    {
      "cell_type": "markdown",
      "source": [
        "Yes, insights from the chart can guide strategies for improving app quality and competitive positioning, but there are risks associated with high competition and quality gaps."
      ],
      "metadata": {
        "id": "ey_0qi68phqO"
      }
    },
    {
      "cell_type": "markdown",
      "source": [
        "#### Chart - 9 : Paid Apps"
      ],
      "metadata": {
        "id": "YJ55k-q6phqO"
      }
    },
    {
      "cell_type": "code",
      "source": [
        "# Creating a df containing only paid apps\n",
        "paid_df=data[data['Type']=='Paid']\n",
        "# Number of apps that can be installed at a particular price\n",
        "paid_df.groupby('Price')['App'].count().sort_values(ascending= False).plot.bar(figsize = (20,6), color = 'crimson')\n"
      ],
      "metadata": {
        "id": "9mcfRqJWyAqC"
      },
      "execution_count": null,
      "outputs": []
    },
    {
      "cell_type": "markdown",
      "source": [
        "##### 1. Why did you pick the specific chart?"
      ],
      "metadata": {
        "id": "gCFgpxoyphqP"
      }
    },
    {
      "cell_type": "markdown",
      "source": [
        "The bar chart is chosen to visualize the distribution of the number of apps available at different price points. A bar chart is effective here because it clearly shows the frequency of apps across various price ranges, allowing you to easily compare how many apps are available at each price level."
      ],
      "metadata": {
        "id": "TVxDimi2phqP"
      }
    },
    {
      "cell_type": "markdown",
      "source": [
        "##### 2. What is/are the insight(s) found from the chart?"
      ],
      "metadata": {
        "id": "OVtJsKN_phqQ"
      }
    },
    {
      "cell_type": "markdown",
      "source": [
        "Overall, the chart helps understand the distribution of app prices and can guide decisions related to pricing and market positioning."
      ],
      "metadata": {
        "id": "ngGi97qjphqQ"
      }
    },
    {
      "cell_type": "markdown",
      "source": [
        "3. Will the gained insights help creating a positive business impact?\n",
        "\n",
        "Are there any insights that lead to negative growth? Justify with specific reason."
      ],
      "metadata": {
        "id": "l9G-ZlMM2CD7"
      }
    },
    {
      "cell_type": "markdown",
      "source": [
        "Yes,Insights help set competitive prices, target market segments, and align with consumer preferences."
      ],
      "metadata": {
        "id": "EUXXZr022Kw2"
      }
    },
    {
      "cell_type": "markdown",
      "source": [
        "#### Chart - 10 : Size Of Applications"
      ],
      "metadata": {
        "id": "U2RJ9gkRphqQ"
      }
    },
    {
      "cell_type": "code",
      "source": [
        "# Function to group the apps based on its size in MB\n",
        "def size_apps(var):\n",
        "  try:\n",
        "    if var < 1:\n",
        "      return 'Below 1'\n",
        "    elif var >= 1 and var <10:\n",
        "      return '1-10'\n",
        "    elif var >= 10 and var <20:\n",
        "      return '10-20'\n",
        "    elif var >= 20 and var <30:\n",
        "      return '20-30'\n",
        "    elif var >= 30 and var <40:\n",
        "      return '30-40'\n",
        "    elif var >= 40 and var <50:\n",
        "      return '40-50'\n",
        "    elif var >= 50 and var <60:\n",
        "      return '50-60'\n",
        "    elif var >= 60 and var <70:\n",
        "      return '60-70'\n",
        "    elif var >= 70 and var <80:\n",
        "      return '70-80'\n",
        "    elif var >= 80 and var <90:\n",
        "      return '80-90'\n",
        "    else:\n",
        "      return '90 and above'\n",
        "  except:\n",
        "    return var"
      ],
      "metadata": {
        "id": "V5hi0Q-nePhu"
      },
      "execution_count": null,
      "outputs": []
    },
    {
      "cell_type": "code",
      "source": [
        "data['size_group']=data['Size'].apply(lambda x : size_apps(x))\n",
        "data.head()"
      ],
      "metadata": {
        "id": "-hzl6EU1eEuT"
      },
      "execution_count": null,
      "outputs": []
    },
    {
      "cell_type": "code",
      "source": [
        "# no of apps belonging to each size group\n",
        "data['size_group'].value_counts().plot.barh(figsize=(20,8),color='r').invert_yaxis()\n",
        "plt.title(\"Number of apps in different size groups\", size=20)\n",
        "plt.ylabel('App size in MB', size=15)\n",
        "plt.xlabel('No of apps', size=15)\n",
        "plt.legend()"
      ],
      "metadata": {
        "id": "MT9JuJx-eWvl"
      },
      "execution_count": null,
      "outputs": []
    },
    {
      "cell_type": "code",
      "source": [
        "# average number of app installs in each category\n",
        "data.groupby('size_group')['Installs'].mean().sort_values(ascending= False).plot.barh(figsize=(20,8),color='sandybrown').invert_yaxis()\n",
        "plt.title(\"Average number of app installs (In 10 millions)\", fontsize=20)\n",
        "plt.ylabel('App Size In MB', fontsize=15)\n",
        "plt.xlabel('Average No Of App Installs', fontsize=15)\n",
        "plt.show()"
      ],
      "metadata": {
        "id": "yBBmQfMTeyj5"
      },
      "execution_count": null,
      "outputs": []
    },
    {
      "cell_type": "markdown",
      "source": [
        "##### 1. Why did you pick the specific chart?"
      ],
      "metadata": {
        "id": "1M8mcRywphqQ"
      }
    },
    {
      "cell_type": "markdown",
      "source": [
        " I used a bar plot to analyze the distribution of application sizes across different categories. This visualization allowed me to clearly compare the sizes of applications within each category, providing insights into the relative sizes and helping to identify trends or patterns in the data.\n",
        " And also gives the details about average number of apps installed in each category"
      ],
      "metadata": {
        "id": "8agQvks0phqQ"
      }
    },
    {
      "cell_type": "markdown",
      "source": [
        "##### 2. What is/are the insight(s) found from the chart?"
      ],
      "metadata": {
        "id": "tgIPom80phqQ"
      }
    },
    {
      "cell_type": "markdown",
      "source": [
        "I identified which categories have the largest and smallest average application sizes."
      ],
      "metadata": {
        "id": "Qp13pnNzphqQ"
      }
    },
    {
      "cell_type": "markdown",
      "source": [
        "##### 3. Will the gained insights help creating a positive business impact?\n",
        "Are there any insights that lead to negative growth? Justify with specific reason."
      ],
      "metadata": {
        "id": "JMzcOPDDphqR"
      }
    },
    {
      "cell_type": "markdown",
      "source": [
        "Yes,It can help target marketing efforts, guide product development, and inform investment in popular categories."
      ],
      "metadata": {
        "id": "R4Ka1PC2phqR"
      }
    },
    {
      "cell_type": "markdown",
      "source": [
        "#### Chart - 11"
      ],
      "metadata": {
        "id": "x-EpHcCOp1ci"
      }
    },
    {
      "cell_type": "code",
      "source": [
        "#scaterplot on apps rating based on price\n",
        "plt.figure(figsize=(12, 6))\n",
        "sns.scatterplot(data=price_df,x=price_df['Size'],y=price_df['Rating'],hue=price_df['Type'], s=115, alpha=0.7)\n",
        "plt.xlabel(\"Size(MB)\",fontsize=16)\n",
        "plt.xlim(0,110)\n",
        "plt.ylabel(\"Rating(out of 5)\",fontsize=16)\n",
        "plt.ylim(0,6)\n",
        "plt.title(\"Apps rating ,size and type\",fontsize=16)\n",
        "plt.legend(title='App Type', bbox_to_anchor=(1.05, 1), loc='upper left')\n",
        "plt.show()"
      ],
      "metadata": {
        "id": "pfAE5uTa25d1"
      },
      "execution_count": null,
      "outputs": []
    },
    {
      "cell_type": "markdown",
      "source": [
        "##### 1. Why did you pick the specific chart?"
      ],
      "metadata": {
        "id": "X_VqEhTip1ck"
      }
    },
    {
      "cell_type": "markdown",
      "source": [
        "Scatter plots are used to plot data points on horizontal and vertical axis in the attempt to show how much one variable is affected by another."
      ],
      "metadata": {
        "id": "-vsMzt_np1ck"
      }
    },
    {
      "cell_type": "markdown",
      "source": [
        "##### 2. What is/are the insight(s) found from the chart?"
      ],
      "metadata": {
        "id": "8zGJKyg5p1ck"
      }
    },
    {
      "cell_type": "markdown",
      "source": [
        "From this scatter plot, we can imply that majority of the free apps are small in size and having high rating. While for paid apps, we have quite equal distribution in term on size and rating."
      ],
      "metadata": {
        "id": "ZYdMsrqVp1ck"
      }
    },
    {
      "cell_type": "markdown",
      "source": [
        "##### 3. Will the gained insights help creating a positive business impact?\n",
        "Are there any insights that lead to negative growth? Justify with specific reason."
      ],
      "metadata": {
        "id": "PVzmfK_Ep1ck"
      }
    },
    {
      "cell_type": "markdown",
      "source": [
        "From this scatter plot, we can imply that the majority of the apps are free and small in size with a high rating. While for paid apps, we have quite equal distribution in terms of size and rating it mins if the apps are small in size it may lead to high installations and reviews."
      ],
      "metadata": {
        "id": "druuKYZpp1ck"
      }
    },
    {
      "cell_type": "markdown",
      "source": [
        "#### Chart - 12"
      ],
      "metadata": {
        "id": "n3dbpmDWp1ck"
      }
    },
    {
      "cell_type": "code",
      "source": [
        "#dataset on rating, reviews,installs,size and price\n",
        "df2=df1[[\"Rating\",\"Reviews\",\"Installs\",\"Size\",\"Price\"]]\n",
        "df2"
      ],
      "metadata": {
        "id": "avnGdYTB7-Go"
      },
      "execution_count": null,
      "outputs": []
    },
    {
      "cell_type": "code",
      "source": [
        "#df2 information\n",
        "df2.info()"
      ],
      "metadata": {
        "id": "VC_j87uuHCk_"
      },
      "execution_count": null,
      "outputs": []
    },
    {
      "cell_type": "code",
      "source": [
        "#apps based on rating,reviews,installs,size and price\n",
        "rating_df = df2.groupby('Rating').sum().reset_index()\n",
        "rating_df.head()"
      ],
      "metadata": {
        "id": "krTxWyaBHGHT"
      },
      "execution_count": null,
      "outputs": []
    },
    {
      "cell_type": "code",
      "source": [
        "# Chart - 12 visualization code\n",
        "#graph on size,rating,review etc\n",
        "# Create a figure with 4 subplots\n",
        "fig, axes = plt.subplots(1, 4, figsize=(15, 4))\n",
        "\n",
        "axes[0].plot(rating_df['Rating'], rating_df['Reviews'], 'r')\n",
        "axes[0].set_xlabel('Rating')\n",
        "axes[0].set_ylabel('Reviews')\n",
        "axes[0].set_title('Reviews Per Rating',fontsize=16)\n",
        "\n",
        "axes[1].plot(rating_df['Rating'], rating_df['Size'], 'g')\n",
        "axes[1].set_xlabel('Rating')\n",
        "axes[1].set_ylabel('Size')\n",
        "axes[1].set_title('Size Per Rating',fontsize=16)\n",
        "\n",
        "axes[2].plot(rating_df['Rating'], rating_df['Installs'], 'y')\n",
        "axes[2].set_xlabel('Rating')\n",
        "axes[2].set_ylabel('Installs (e+10)')\n",
        "axes[2].set_title('Installs Per Rating',fontsize=16)\n",
        "\n",
        "axes[3].plot(rating_df['Rating'], rating_df['Price'], 'm')\n",
        "axes[3].set_xlabel('Rating')\n",
        "axes[3].set_ylabel('Price')\n",
        "axes[3].set_title('Price Per Rating',fontsize=16)\n",
        "\n",
        "plt.tight_layout(pad=2)\n",
        "plt.show()"
      ],
      "metadata": {
        "id": "sqdDMVF4HNmK"
      },
      "execution_count": null,
      "outputs": []
    },
    {
      "cell_type": "markdown",
      "source": [
        "##### 1. Why did you pick the specific chart?"
      ],
      "metadata": {
        "id": "ylSl6qgtp1ck"
      }
    },
    {
      "cell_type": "markdown",
      "source": [
        "A line chart displays the evolution of one or several numeric variables"
      ],
      "metadata": {
        "id": "m2xqNkiQp1ck"
      }
    },
    {
      "cell_type": "markdown",
      "source": [
        "##### 2. What is/are the insight(s) found from the chart?"
      ],
      "metadata": {
        "id": "ZWILFDl5p1ck"
      }
    },
    {
      "cell_type": "markdown",
      "source": [
        "From the above plottings, we can imply that most of the apps with higher rating range of 4.0 - 4.7 are having high amount of reviews, size, and installs. In terms of price, it doesn't reflect a direct relationship with rating, as we could see a fluctuation in term of pricing even at the range of high rating."
      ],
      "metadata": {
        "id": "x-lUsV2mp1ck"
      }
    },
    {
      "cell_type": "markdown",
      "source": [
        "##### 3. Will the gained insights help creating a positive business impact?\n",
        "Are there any insights that lead to negative growth? Justify with specific reason."
      ],
      "metadata": {
        "id": "M7G43BXep1ck"
      }
    },
    {
      "cell_type": "markdown",
      "source": [
        "From the above plottings, we can imply that most of the apps with a higher rating range of 4.0 - 4.7 are having a high amount of reviews, sizes, and installs. In terms of price, it doesn't reflect a direct relationship with rating, as we could see a fluctuation in terms of pricing even at the range of high rating. From these conclusions, we draw an insight that the popularity of apps or ratings of apps is strongly correlated with the number of reviews, the size of the app, and the number of installs."
      ],
      "metadata": {
        "id": "5wwDJXsLp1cl"
      }
    },
    {
      "cell_type": "markdown",
      "source": [
        "Chart - 13 : Android version based on each category"
      ],
      "metadata": {
        "id": "ftNeUf_1hlei"
      }
    },
    {
      "cell_type": "code",
      "source": [
        "data['Android Ver'].replace(to_replace=['4.4W and up','Varies with device'], value=['4.4','1.0'],inplace=True)\n",
        "data['Android Ver'].replace({k: '1.0' for k in ['1.0','1.0 and up','1.5 and up','1.6 and up']},inplace=True)\n",
        "data['Android Ver'].replace({k: '2.0' for k in ['2.0 and up','2.0.1 and up','2.1 and up','2.2 and up','2.2 - 7.1.1','2.3 and up','2.3.3 and up']},inplace=True)\n",
        "data['Android Ver'].replace({k: '3.0' for k in ['3.0 and up','3.1 and up','3.2 and up']},inplace=True)\n",
        "data['Android Ver'].replace({k: '4.0' for k in ['4.0 and up','4.0.3 and up','4.0.3 - 7.1.1','4.1 and up','4.1 - 7.1.1','4.2 and up','4.3 and up','4.4','4.4 and up']},inplace=True)\n",
        "data['Android Ver'].replace({k: '5.0' for k in ['5.0 - 6.0','5.0 - 7.1.1','5.0 - 8.0','5.0 and up','5.1 and up']},inplace=True)\n",
        "data['Android Ver'].replace({k: '6.0' for k in ['6.0 and up']},inplace=True)\n",
        "data['Android Ver'].replace({k: '7.0' for k in ['7.0 - 7.1.1','7.0 and up','7.1 and up']},inplace=True)\n",
        "data['Android Ver'].replace({k: '8.0' for k in ['8.0 and up']},inplace=True)\n",
        "data['Android Ver'].fillna('1.0', inplace=True)"
      ],
      "metadata": {
        "id": "Dc4Xl61jhsRA"
      },
      "execution_count": null,
      "outputs": []
    },
    {
      "cell_type": "code",
      "source": [
        "print(data.groupby('Category')['Android Ver'].value_counts())\n",
        "Type_cat = data.groupby('Category')['Android Ver'].value_counts().unstack().plot.bar(figsize=(25,8), width=2)\n",
        "plt.xticks()\n",
        "plt.show()"
      ],
      "metadata": {
        "id": "BJfbU5Lkh5yU"
      },
      "execution_count": null,
      "outputs": []
    },
    {
      "cell_type": "markdown",
      "source": [
        "### 1. Why did you pick the specific chart?\n",
        "\n",
        " I used a bar plot to analyze the distribution of android versions across applications"
      ],
      "metadata": {
        "id": "dMYlZws3iOf_"
      }
    },
    {
      "cell_type": "markdown",
      "source": [
        "### 2. What is/are the insight(s) found from the chart?\n",
        "It is clearly evident from the above plot that majority of the apps are working on Android_Ver 4.0 and up.\n",
        "\n"
      ],
      "metadata": {
        "id": "kr6aIhZrilUe"
      }
    },
    {
      "cell_type": "markdown",
      "source": [
        "#### Chart - 14 : Correlation Heatmap"
      ],
      "metadata": {
        "id": "Ag9LCva-p1cl"
      }
    },
    {
      "cell_type": "code",
      "source": [
        "#apps based on rating,reviews,installs,size and price\n",
        "rating_df = df2.groupby('Rating').sum().reset_index()\n",
        "rating_df"
      ],
      "metadata": {
        "id": "2SHoaywRbCgz"
      },
      "execution_count": null,
      "outputs": []
    },
    {
      "cell_type": "code",
      "source": [
        "# Chart - 14 visualization code\n",
        "import matplotlib.pyplot as plt\n",
        "import seaborn as sns\n",
        "fig, axes = plt.subplots(figsize=(8, 8))\n",
        "plt.title(\"co-relations of variables using a heatmap\", fontsize=16)\n",
        "sns.heatmap(rating_df.corr(), ax=axes, annot=True, linewidths=0.1, fmt='.2f', square=True)\n",
        "plt.show()"
      ],
      "metadata": {
        "id": "EUfxeq9-p1cl"
      },
      "execution_count": null,
      "outputs": []
    },
    {
      "cell_type": "markdown",
      "source": [
        "##### 1. Why did you pick the specific chart?"
      ],
      "metadata": {
        "id": "E6MkPsBcp1cl"
      }
    },
    {
      "cell_type": "markdown",
      "source": [
        "Because it makes patterns easily readable and highlights the differences and variations in the same data."
      ],
      "metadata": {
        "id": "V22bRsFWp1cl"
      }
    },
    {
      "cell_type": "markdown",
      "source": [
        "##### 2. What is/are the insight(s) found from the chart?"
      ],
      "metadata": {
        "id": "2cELzS2fp1cl"
      }
    },
    {
      "cell_type": "markdown",
      "source": [
        "From our heatmap, we can visualize the correlation of the variables. some visualizations from the map are -\n",
        "\n",
        "1-The correlation between reviews and price is very low\n",
        "\n",
        "2-The correlation between reviews and installation is very high\n",
        "\n",
        "3- The moderate correlation variables are price vs rating, rating vs installation\n",
        "\n",
        "4-The very low correlation between price, reviews, and installs."
      ],
      "metadata": {
        "id": "ozQPc2_Ip1cl"
      }
    },
    {
      "cell_type": "markdown",
      "source": [
        "##### 3. Will the gained insights help creating a positive business impact?\n",
        "Are there any insights that lead to negative growth? Justify with specific reason."
      ],
      "metadata": {
        "id": "3MPXvC8up1cl"
      }
    },
    {
      "cell_type": "markdown",
      "source": [
        "From the above heatmap, we can say that the correlation between Installation, size, and reviews of the apps gain a positive impact on business, and the relation between price, Installation, and Reviews has a negative or less positive impact on business."
      ],
      "metadata": {
        "id": "GL8l1tdLp1cl"
      }
    },
    {
      "cell_type": "markdown",
      "source": [
        "#### Chart - 15 - Pair Plot"
      ],
      "metadata": {
        "id": "q29F0dvdveiT"
      }
    },
    {
      "cell_type": "code",
      "source": [
        "# Pair Plot visualization code\n",
        "g=sns.pairplot(rating_df)\n",
        "g.fig.suptitle(\"Distribution and relation of data \", y=1.00,fontsize=16)\n",
        "plt.show()"
      ],
      "metadata": {
        "id": "o58-TEIhveiU"
      },
      "execution_count": null,
      "outputs": []
    },
    {
      "cell_type": "markdown",
      "source": [
        "##### 1. Why did you pick the specific chart?"
      ],
      "metadata": {
        "id": "EXh0U9oCveiU"
      }
    },
    {
      "cell_type": "markdown",
      "source": [
        "Because Pair plot is used to understand the best set of features to explain a relationship between two variables or to form the most separated clusters. It also helps to form some simple classification models by drawing some simple lines or make linear separation in our data-set."
      ],
      "metadata": {
        "id": "eMmPjTByveiU"
      }
    },
    {
      "cell_type": "markdown",
      "source": [
        "##### 2. What is/are the insight(s) found from the chart?"
      ],
      "metadata": {
        "id": "22aHeOlLveiV"
      }
    },
    {
      "cell_type": "markdown",
      "source": [
        "1.Relation between reviews and price is very low\n",
        "\n",
        "2.Relation between reviews and installation is very high\n",
        "\n",
        "3.Moderate relation variables are price vs rating, rating vs installation\n",
        "\n",
        "4.very low relation between price, reviews, and installs."
      ],
      "metadata": {
        "id": "uPQ8RGwHveiV"
      }
    },
    {
      "cell_type": "markdown",
      "source": [
        "### Chart - 16: Scatter plot\n"
      ],
      "metadata": {
        "id": "RxiWKOC4j6QJ"
      }
    },
    {
      "cell_type": "code",
      "source": [
        "plt.figure(figsize=(14,7))\n",
        "sns.scatterplot(data=user,x='Sentiment_Subjectivity', y='Sentiment_Polarity',hue=\"Sentiment\")\n",
        "plt.title(\"Does sentiment_subjectivity proportional to sentiment_polarity\",fontsize=16)\n",
        "plt.show()"
      ],
      "metadata": {
        "id": "y38JXcD3j-N3"
      },
      "execution_count": null,
      "outputs": []
    },
    {
      "cell_type": "markdown",
      "source": [
        "### 1. Why did you pick the specific chart?\n",
        "\n",
        "Because Scatter plots are used to plot data points on a horizontal and a vertical axis in an attempt to show how much one variable is affected by another."
      ],
      "metadata": {
        "id": "2NCossxCl42K"
      }
    },
    {
      "cell_type": "markdown",
      "source": [
        "### 2. What is/are the insight(s) found from the chart?\n",
        "From the above scatter plot it can be concluded that sentiment subjectivity is not always proportional to sentiment polarity but in maximum number of case, shows a proportional behavior, when variance is too high or low"
      ],
      "metadata": {
        "id": "H424jzyfl9aE"
      }
    },
    {
      "cell_type": "markdown",
      "source": [
        "### 3. Will the gained insights help creating a positive business impact?\n",
        "### Are there any insights that lead to negative growth? Justify with specific reason.\n",
        "sentiment subjectivity is not always proportional to sentiment polarity but in maximum number of case, shows a proportional behavior, when variance is too high or low"
      ],
      "metadata": {
        "id": "73lnTKLFmBgl"
      }
    },
    {
      "cell_type": "markdown",
      "source": [
        "Chart - 18 Pie Chart\n"
      ],
      "metadata": {
        "id": "tvx3Hl0cmPIX"
      }
    },
    {
      "cell_type": "code",
      "source": [
        "#sentiment percentage\n",
        "plt.figure(figsize=(8,6))\n",
        "plt.title(\"sentiment percentege\",fontsize = 16)\n",
        "plt.pie(user.Sentiment.value_counts(), labels=user.Sentiment.value_counts().index,autopct='%1.1f%%',startangle=90,explode=(0,0.1,0))\n",
        "plt.show()"
      ],
      "metadata": {
        "id": "bBt-od4omRGd"
      },
      "execution_count": null,
      "outputs": []
    },
    {
      "cell_type": "markdown",
      "source": [
        "### 1. Why did you pick the specific chart?\n",
        "A pie chart helps organize and show data as a percentage of a whole."
      ],
      "metadata": {
        "id": "EZJAjXhimgyG"
      }
    },
    {
      "cell_type": "markdown",
      "source": [
        "### 2. What is/are the insight(s) found from the chart?\n",
        "It can be seen from the above plot that the number of positive reviews are way higher than negative and neutral ones."
      ],
      "metadata": {
        "id": "4n7Mf7i_mmAg"
      }
    },
    {
      "cell_type": "markdown",
      "source": [
        "### 3.Will the gained insights help creating a positive business impact?\n",
        "### Are there any insights that lead to negative growth? Justify with specific reason\n",
        "From the above plot that the number of positive reviews(64%) are way higher than negative(22%) and neutral ones."
      ],
      "metadata": {
        "id": "5pYVkioomr2-"
      }
    },
    {
      "cell_type": "markdown",
      "source": [
        "## **5. Solution to Business Objective**"
      ],
      "metadata": {
        "id": "JcMwzZxoAimU"
      }
    },
    {
      "cell_type": "markdown",
      "source": [
        "Here’s a more concise version:\n",
        "\n",
        "**Free Apps**: Free apps generally have higher installations and ratings in the Android market, suggesting greater user engagement.\n",
        "\n",
        "**Popular Categories**: Categories like GAME, SOCIAL, COMMUNICATION, and TOOL have the most installs, ratings, and reviews, reflecting current Android user trends.\n",
        "\n",
        "**App Size**: The median app size on the Play Store is 12 MB, indicating a benchmark for app optimization."
      ],
      "metadata": {
        "id": "8G2x9gOozGDZ"
      }
    },
    {
      "cell_type": "markdown",
      "source": [
        "# **Conclusion**"
      ],
      "metadata": {
        "id": "gCX9965dhzqZ"
      }
    },
    {
      "cell_type": "markdown",
      "source": [
        "The Google Play Store Apps report provides valuable insights into current app trends within the Play Store. Based on the visualizations, it is evident that the most popular apps, in terms of user installations, belong to categories such as GAME, COMMUNICATION, and TOOL, despite there being fewer apps available in these categories compared to FAMILY. The popularity of these apps is likely due to their ability to entertain or assist users effectively. Additionally, this trend suggests that developers in these categories prioritize the quality of their apps over quantity.\n",
        "\n",
        "Moreover, the charts indicate that apps with high user ratings, typically above 4.0, often have a substantial number of reviews and installations. Although there are occasional spikes in app size and price, these outliers do not suggest that highly rated apps are generally large or expensive. Instead, these spikes are likely attributable to a few exceptional cases. Furthermore, the apps with the most reviews predominantly come from categories such as SOCIAL, COMMUNICATION, and GAME, including popular apps like Facebook, WhatsApp Messenger, Instagram, Messenger – Text and Video Chat for Free, and Clash of Clans.\n",
        "\n",
        "While categories such as GAME, SOCIAL, COMMUNICATION, and TOOL currently dominate in terms of installs, ratings, and reviews, they do not appear among the top five most expensive app categories in the store, which are primarily FINANCE and LIFESTYLE. In conclusion, the current trend in the Android market is largely driven by apps that provide assistance, enable communication, or offer entertainment."
      ],
      "metadata": {
        "id": "Fjb1IsQkh3yE"
      }
    },
    {
      "cell_type": "markdown",
      "source": [
        "-Percentage of free apps = ~92%\n",
        "\n",
        "-Percentage of apps with no age restrictions = ~82%\n",
        "\n",
        "-Most competitive category: Family\n",
        "\n",
        "-Category with the highest number of installs: Game\n",
        "\n",
        "-Category with the highest average app installs: Communication\n",
        "\n",
        "-Percentage of apps that are top rated = ~80%\n",
        "\n",
        "-The majority of the free apps are small in size and having high rating.\n",
        "\n",
        "-While for paid apps, we have quite equal distribution in term on size and rating.\n",
        "\n",
        "-The number of positive reviews(64%) are way higher than negative(22%) and neutral ones in User reviews dataset.\n",
        "\n",
        "-The apps are working on Android_Ver 4.0 and up.\n",
        "\n",
        "\n",
        "\n",
        "\n",
        "\n"
      ],
      "metadata": {
        "id": "WTILEBRwnt_9"
      }
    },
    {
      "cell_type": "markdown",
      "source": [
        "### ***Hurrah! You have successfully completed your EDA Capstone Project !!!***"
      ],
      "metadata": {
        "id": "gIfDvo9L0UH2"
      }
    }
  ]
}